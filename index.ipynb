{
 "cells": [
  {
   "cell_type": "markdown",
   "metadata": {},
   "source": [
    "# SQL Interview Questions  - Quiz\n",
    "\n",
    "## Introduction\n",
    "\n",
    "In this lesson, we'll go through a short quiz containing the types of questions about SQL and relational databases that you can expect to see in an interview. \n",
    "\n",
    "\n",
    "\n",
    "## SQL Interview Questions\n",
    "\n",
    "This quiz contains questions on topics you can expect to see in an interview pertaining to SQL and Relational Databases. Some of them are multiple choice, while some are short answer. For these short answer questions, double click on the Jupyter Notebook and type your answer below the line. \n",
    "\n",
    "## Question 1\n",
    "\n",
    "what are the 4 main datatypes in SQLite3? Can we use other common types from other kinds of SQL?\n",
    "\n",
    "Type your answer below this line:\n",
    "_______________________________________________________________________________________________________________________________\n",
    "TEXT, INTEGER, REAL, BLOB are the four main datatype categories, however to increase compatibility with other database engines, such as mySQL or PostgreSQL, SQLite allows the user to use other common data types. This is possible because SQLite has a complex system for categorizing datatypes to fall under the 4 categories, which involves things such as `Storage Classes`, `Type Affinities` and `Datatypes`.\n",
    "\n",
    "\n",
    "\n",
    "\n",
    "## Question 2\n",
    "\n",
    "Explain the relationship between **Primary Keys** and **Foreign Keys**.\n",
    "\n",
    "Type your answer below this line:\n",
    "_______________________________________________________________________________________________________________________________\n",
    "A primary key serves as the index for that table, while the Foreign Key points to the primary key value in another table. We use this to \"line up\" information between two or more tables by using a JOIN statement between the Primary and Foreign keys. The primary key is always in an integer. The table that \"has many\" is considered to be the parent, while the thing that \"belongs to\" is considered the child. The child table has the foreign key column, the value of which is the primary key of that data/row's parent.\n",
    "\n",
    "\n",
    "\n",
    "\n",
    "## Question 3\n",
    "\n",
    "Explain the different types of relationships entities can have in a SQL database. \n",
    "\n",
    "Type your answer below this line:\n",
    "_______________________________________________________________________________________________________________________________\n",
    "The three types of relationships in relational databases are one-to-one, one-to-many, and many-to-many.\n",
    "* one-to-one: where a row in one table can only have one matching row in another table. This is not very common, but is sometimes used for security reasons\n",
    "* one-to-many: also called a many-to-one, where a row in table A can have many matching rows in Table B, but a row in Table B has only one matching row in Table A. This is very common relationship type.\n",
    "* many-to-many: a row in one table can have many matching rows in another table, and vice versa. This can also happen through having an intermediary table, where this could be figured as two one-to-many relationships linked by the intermediary table, or junction table.\n",
    "\n",
    "\n",
    "## Question 4\n",
    "\n",
    "Explain the various types of JOINs possible with SQL. \n",
    "\n",
    "Type your answer below this line:\n",
    "_______________________________________________________________________________________________________________________________\n",
    "The 4 types of joins are inner, left, right, and full outer join (note that sqlite does not support outer joins). An inner join selects all the records from table A and Table B where the join condition is met. A Left join selects all records from Table A along with records from Table B for which the join condition is met, if at all. A Right join selects all records from Table B along with records from Table A where the join condition is met, if at all. A Full Outer Join selects all records from Tables A and B, regardless of whether the join condition is met.\n",
    "\n",
    "\n",
    "## Question 5\n",
    "\n",
    "Explain the relationship between Aggregate functions and GROUP BY statements.\n",
    "\n",
    "Type your answer below this line:\n",
    "_______________________________________________________________________________________________________________________________\n",
    "The GROUP BY statement is used to organize similar data into groups, combining multiple records in single or more columns using some functions. Usually these functions are aggregate functions, such as min(), max(), avg(), count(), or sum(). Aggregate functions are functions where the values of multiple rows are grouped together as input on certain certain criteria to form a single value.\n",
    "\n",
    "\n",
    "## Question 6\n",
    "\n",
    "What role do Associative Entities play (JOIN Tables) in many-to-many JOINs?\n",
    "\n",
    "\n",
    "Type your answer below this line:\n",
    "_______________________________________________________________________________________________________________________________\n",
    "In many-to-many JOINs, the role of Associate Entities is to serve as the intermediary join table, joining the two other tables.\n",
    "\n",
    "\n",
    "## Summary\n",
    "\n",
    "In this lesson, we practiced answering open-ended interview questions for SQL and Relational Databases. "
   ]
  },
  {
   "cell_type": "code",
   "execution_count": null,
   "metadata": {},
   "outputs": [],
   "source": []
  }
 ],
 "metadata": {
  "kernelspec": {
   "display_name": "learn-env",
   "language": "python",
   "name": "learn-env"
  },
  "language_info": {
   "codemirror_mode": {
    "name": "ipython",
    "version": 3
   },
   "file_extension": ".py",
   "mimetype": "text/x-python",
   "name": "python",
   "nbconvert_exporter": "python",
   "pygments_lexer": "ipython3",
   "version": "3.6.6"
  },
  "toc": {
   "base_numbering": 1,
   "nav_menu": {},
   "number_sections": true,
   "sideBar": true,
   "skip_h1_title": false,
   "title_cell": "Table of Contents",
   "title_sidebar": "Contents",
   "toc_cell": false,
   "toc_position": {},
   "toc_section_display": true,
   "toc_window_display": false
  },
  "varInspector": {
   "cols": {
    "lenName": 16,
    "lenType": 16,
    "lenVar": 40
   },
   "kernels_config": {
    "python": {
     "delete_cmd_postfix": "",
     "delete_cmd_prefix": "del ",
     "library": "var_list.py",
     "varRefreshCmd": "print(var_dic_list())"
    },
    "r": {
     "delete_cmd_postfix": ") ",
     "delete_cmd_prefix": "rm(",
     "library": "var_list.r",
     "varRefreshCmd": "cat(var_dic_list()) "
    }
   },
   "types_to_exclude": [
    "module",
    "function",
    "builtin_function_or_method",
    "instance",
    "_Feature"
   ],
   "window_display": true
  }
 },
 "nbformat": 4,
 "nbformat_minor": 2
}
